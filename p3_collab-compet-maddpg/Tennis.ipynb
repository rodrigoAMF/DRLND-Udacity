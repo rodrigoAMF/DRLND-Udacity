{
 "cells": [
  {
   "cell_type": "markdown",
   "metadata": {},
   "source": [
    "# Collaboration and Competition\n",
    "\n",
    "### Starting the Environment\n",
    "\n",
    "We begin by importing the necessary packages.  If the code cell below returns an error, please revisit the project instructions to double-check that you have installed [Unity ML-Agents](https://github.com/Unity-Technologies/ml-agents/blob/master/docs/Installation.md) and [NumPy](http://www.numpy.org/)."
   ]
  },
  {
   "cell_type": "code",
   "execution_count": 1,
   "metadata": {},
   "outputs": [
    {
     "name": "stdout",
     "output_type": "stream",
     "text": [
      "Algorithm will train with GPU\n"
     ]
    }
   ],
   "source": [
    "from collections import deque\n",
    "\n",
    "import numpy as np\n",
    "import matplotlib.pyplot as plt\n",
    "import torch\n",
    "\n",
    "from unityagents import UnityEnvironment\n",
    "from maddpg import MADDPG"
   ]
  },
  {
   "cell_type": "markdown",
   "metadata": {},
   "source": [
    "Next, we will start the environment!  **_Before running the code cell below_**, change the `file_name` parameter to match the location of the Unity environment that you downloaded.\n",
    "\n",
    "- **Mac**: `\"path/to/Tennis.app\"`\n",
    "- **Windows** (x86): `\"path/to/Tennis_Windows_x86/Tennis.exe\"`\n",
    "- **Windows** (x86_64): `\"path/to/Tennis_Windows_x86_64/Tennis.exe\"`\n",
    "- **Linux** (x86): `\"path/to/Tennis_Linux/Tennis.x86\"`\n",
    "- **Linux** (x86_64): `\"path/to/Tennis_Linux/Tennis.x86_64\"`\n",
    "- **Linux** (x86, headless): `\"path/to/Tennis_Linux_NoVis/Tennis.x86\"`\n",
    "- **Linux** (x86_64, headless): `\"path/to/Tennis_Linux_NoVis/Tennis.x86_64\"`\n",
    "\n",
    "For instance, if you are using a Mac, then you downloaded `Tennis.app`.  If this file is in the same folder as the notebook, then the line below should appear as follows:\n",
    "```\n",
    "env = UnityEnvironment(file_name=\"Tennis.app\")\n",
    "```"
   ]
  },
  {
   "cell_type": "code",
   "execution_count": 2,
   "metadata": {},
   "outputs": [
    {
     "name": "stderr",
     "output_type": "stream",
     "text": [
      "INFO:unityagents:\n",
      "'Academy' started successfully!\n",
      "Unity Academy name: Academy\n",
      "        Number of Brains: 1\n",
      "        Number of External Brains : 1\n",
      "        Lesson number : 0\n",
      "        Reset Parameters :\n",
      "\t\t\n",
      "Unity brain name: TennisBrain\n",
      "        Number of Visual Observations (per agent): 0\n",
      "        Vector Observation space type: continuous\n",
      "        Vector Observation space size (per agent): 8\n",
      "        Number of stacked Vector Observation: 3\n",
      "        Vector Action space type: continuous\n",
      "        Vector Action space size (per agent): 2\n",
      "        Vector Action descriptions: , \n"
     ]
    }
   ],
   "source": [
    "env = UnityEnvironment(file_name=\"Tennis/Tennis.exe\")"
   ]
  },
  {
   "cell_type": "code",
   "execution_count": 3,
   "metadata": {},
   "outputs": [],
   "source": [
    "# get the default brain\n",
    "brain_name = env.brain_names[0]\n",
    "brain = env.brains[brain_name]"
   ]
  },
  {
   "cell_type": "code",
   "execution_count": 4,
   "metadata": {},
   "outputs": [
    {
     "name": "stdout",
     "output_type": "stream",
     "text": [
      "Number of agents: 2\n",
      "Size of each action: 2\n",
      "There are 2 agents. Each observes a state with length: 24\n",
      "The state for the first agent looks like:\n",
      " [ 0.          0.          0.          0.          0.          0.\n",
      "  0.          0.          0.          0.          0.          0.\n",
      "  0.          0.          0.          0.         -6.65278625 -1.5\n",
      " -0.          0.          6.83172083  6.         -0.          0.        ]\n",
      "The state for the second agent looks like:\n",
      " [ 0.          0.          0.          0.          0.          0.\n",
      "  0.          0.          0.          0.          0.          0.\n",
      "  0.          0.          0.          0.         -6.4669857  -1.5\n",
      "  0.          0.         -6.83172083  6.          0.          0.        ]\n"
     ]
    }
   ],
   "source": [
    "# reset the environment\n",
    "env_info = env.reset(train_mode=True)[brain_name]\n",
    "\n",
    "# number of agents \n",
    "num_agents = len(env_info.agents)\n",
    "agents_ids = np.arange(num_agents)\n",
    "print('Number of agents:', num_agents)\n",
    "\n",
    "# size of each action\n",
    "action_size = brain.vector_action_space_size\n",
    "print('Size of each action:', action_size)\n",
    "\n",
    "# examine the state space \n",
    "states = env_info.vector_observations\n",
    "state_size = states.shape[1]\n",
    "print('There are {} agents. Each observes a state with length: {}'.format(states.shape[0], state_size))\n",
    "print('The state for the first agent looks like:\\n', states[0])\n",
    "print('The state for the second agent looks like:\\n', states[1])"
   ]
  },
  {
   "cell_type": "code",
   "execution_count": 5,
   "metadata": {},
   "outputs": [],
   "source": [
    "def generate_full(array):\n",
    "    return np.concatenate((array[0], array[1])).reshape(1, -1)\n",
    "\n",
    "def train(n_episodes=2500, max_t=1000, print_every=100):\n",
    "    # Variables to keep data from training\n",
    "    scores_deque = deque(maxlen=100) # To calculate average score over last 100 episodes\n",
    "    average_scores = []              # To save average score of episodes during training\n",
    "    scores_episode = []              # To save score by episode\n",
    "    scores_agents = []\n",
    "    solved = False                   # To check if the environment is solved\n",
    "    best_average_score = -1          # To save the best_average_score\n",
    "    episode_best_average_score = -1  # To save the episode with the best_average_score\n",
    "    best_score = -1\n",
    "    episode_best_score = -1\n",
    "    \n",
    "    # Training loop\n",
    "    i_episode = 0\n",
    "    while i_episode <= n_episodes:\n",
    "        env_info = env.reset(train_mode=True)[brain_name]\n",
    "        states = env_info.vector_observations                 # Get the first state\n",
    "        state_full = generate_full(states)                    # Generate the state_full (concatenation of the state of agent 1 and 2)\n",
    "        maddpg.reset()                                        # Reset noise function\n",
    "        scores = np.zeros(num_agents)                         # Generate a array to save scores of each agent during episode\n",
    "        for t in range(max_t):\n",
    "            actions = maddpg.act(states, add_noise=True)      # Get action of each agent for the current state (of each agent)\n",
    "            action_full = generate_full(actions)\n",
    "            env_info = env.step(actions)[brain_name]          # Execute the current set of actions in the environment\n",
    "            next_states = env_info.vector_observations        # Get the new state after executed the current set of actions\n",
    "            next_state_full = generate_full(next_states)\n",
    "            rewards = env_info.rewards                        # Get the rewareds from executing the current set of actions in the states\n",
    "            dones = env_info.local_done                       # Check if the episode has ended\n",
    "            for state, action, reward, next_state, done, agent_id in zip(states, actions, rewards, next_states, dones, agents_ids):\n",
    "                maddpg.step(state_full, action_full, next_state_full, state, action, reward, next_state, done, t, agent_id)  # Add data to memory and call the learning function\n",
    "            states = next_states\n",
    "            state_full = generate_full(states)\n",
    "            scores += rewards\n",
    "            if np.any(done):\n",
    "                break\n",
    "        scores_agents.append(scores)\n",
    "        score = np.max(scores)\n",
    "        if score > best_score:\n",
    "            best_score = score\n",
    "            episode_best_score = i_episode\n",
    "        \n",
    "        scores_episode.append(score)\n",
    "        scores_deque.append(score)\n",
    "        \n",
    "        average_score = np.mean(scores_deque)\n",
    "        if average_score > best_average_score:\n",
    "            best_average_score = average_score\n",
    "            episode_best_average_score = i_episode\n",
    "            maddpg.save(model_name=\"checkpoint_solution\")\n",
    "        \n",
    "        average_scores.append(np.mean(scores_deque))\n",
    "        \n",
    "        print('\\rEpisode {}\\tScore : {:.2f}\\tAverage Score: {:.4f}\\tScore Agent_1: {:.2f}\\tScore Agent_2: {:.2f}'\n",
    "              .format(i_episode, score, average_score, scores[1], scores[2]), end=\"\")\n",
    "        \n",
    "        if i_episode % print_every == 0 and i_episode > 0:\n",
    "            maddpg.save()\n",
    "            print('\\rEpisode {}\\tScore : {:.2f}\\tAverage Score: {:.4f}'.format(i_episode, score, average_score))\n",
    "        \n",
    "        if i_episode >= 100 and average_score >= 0.5 and not solved:\n",
    "            solved = True\n",
    "            best_average_score = average_score\n",
    "            episode_best_average_score = i_episode\n",
    "            \n",
    "            print(\"\\n\\nEnviroment solved in {} episodes!\".format(i_episode))\n",
    "            \n",
    "            n_episodes = i_episode + 500\n",
    "            print(\"Continuing training for more 500 episodes (until episode {}) to see if we can still improve average score!\\n\".format(n_episodes))\n",
    "                    \n",
    "        i_episode += 1\n",
    "            \n",
    "    print(\"\\nTraining done!\\n\")\n",
    "    print(\"Best score: {:.3f}\".format(best_score))\n",
    "    print(\"Episode with best score: {}\".format(episode_best_score))\n",
    "    print(\"Best average score: {:.3f}\".format(best_average_score))\n",
    "    print(\"Episode with best average score: {}\".format(episode_best_average_score))\n",
    "\n",
    "    \n",
    "    return average_scores, scores_episode, scores_agents, solved"
   ]
  },
  {
   "cell_type": "code",
   "execution_count": 6,
   "metadata": {
    "scrolled": false
   },
   "outputs": [
    {
     "name": "stdout",
     "output_type": "stream",
     "text": [
      "Training with seed 2784214\n",
      "Episode 100\tScore : 0.00\tAverage Score: 0.0047\n",
      "Episode 200\tScore : 0.00\tAverage Score: 0.0038\n",
      "Episode 300\tScore : 0.00\tAverage Score: 0.0087\n",
      "Episode 400\tScore : 0.00\tAverage Score: 0.0078\n",
      "Episode 500\tScore : 0.00\tAverage Score: 0.0068\n",
      "Episode 600\tScore : 0.00\tAverage Score: 0.0108\n",
      "Episode 700\tScore : 0.00\tAverage Score: 0.0090\n",
      "Episode 800\tScore : 0.00\tAverage Score: 0.0050\n",
      "Episode 900\tScore : 0.00\tAverage Score: 0.0059\n",
      "Episode 1000\tScore : 0.00\tAverage Score: 0.0048\n",
      "Episode 1100\tScore : 0.00\tAverage Score: 0.0050\n",
      "Episode 1200\tScore : 0.00\tAverage Score: 0.0040\n",
      "Episode 1300\tScore : 0.00\tAverage Score: 0.0059\n",
      "Episode 1400\tScore : 0.00\tAverage Score: 0.0089\n",
      "Episode 1500\tScore : 0.00\tAverage Score: 0.0078\n",
      "Episode 1600\tScore : 0.00\tAverage Score: 0.0058\n",
      "Episode 1700\tScore : 0.00\tAverage Score: 0.0067\n",
      "Episode 1800\tScore : 0.00\tAverage Score: 0.0079\n",
      "Episode 1900\tScore : 0.00\tAverage Score: 0.0040\n",
      "Episode 2000\tScore : 0.00\tAverage Score: 0.0088\n",
      "Episode 2100\tScore : 0.00\tAverage Score: 0.0069\n",
      "Episode 2200\tScore : 0.00\tAverage Score: 0.0068\n",
      "Episode 2300\tScore : 0.00\tAverage Score: 0.0068\n",
      "Episode 2400\tScore : 0.00\tAverage Score: 0.0076\n",
      "Episode 2500\tScore : 0.00\tAverage Score: 0.0069\n",
      "\n",
      "Training done!\n",
      "\n",
      "Best score: 0.200\n",
      "Episode with best score: 1987\n",
      "Best average score: 0.045\n",
      "Episode with best average score: 1\n"
     ]
    },
    {
     "data": {
      "image/png": "[encoded data removed]",
      "text/plain": [
       "<Figure size 432x288 with 1 Axes>"
      ]
     },
     "metadata": {
      "needs_background": "light"
     },
     "output_type": "display_data"
    },
    {
     "data": {
      "image/png": "[encoded data removed]",
      "text/plain": [
       "<Figure size 432x288 with 1 Axes>"
      ]
     },
     "metadata": {
      "needs_background": "light"
     },
     "output_type": "display_data"
    },
    {
     "name": "stdout",
     "output_type": "stream",
     "text": [
      "Wall time: 9min 45s\n"
     ]
    }
   ],
   "source": [
    "%%time\n",
    "\n",
    "seed = 2784214\n",
    "maddpg = MADDPG(state_size=state_size,\n",
    "                action_size=action_size,\n",
    "                state_size_full=state_size*2,\n",
    "                action_size_full=action_size*2,\n",
    "                random_seed=seed)\n",
    "\n",
    "print(\"Training with seed {}\".format(seed))\n",
    "\n",
    "average_scores, scores_episode, solved = train()\n",
    "\n",
    "fig = plt.figure()\n",
    "ax = fig.add_subplot(111)\n",
    "plt.plot(np.arange(1, len(average_scores)+1), average_scores)\n",
    "plt.ylabel('Average Score')\n",
    "plt.xlabel('Episode #')\n",
    "plt.show()\n",
    "\n",
    "fig = plt.figure()\n",
    "ax = fig.add_subplot(111)\n",
    "plt.plot(np.arange(1, len(scores_episode)+1), scores_episode)\n",
    "plt.ylabel('Score')\n",
    "plt.xlabel('Episode #')\n",
    "plt.show()"
   ]
  },
  {
   "cell_type": "code",
   "execution_count": 7,
   "metadata": {},
   "outputs": [],
   "source": [
    "env.close()"
   ]
  }
 ],
 "metadata": {
  "kernelspec": {
   "display_name": "Python 3",
   "language": "python",
   "name": "python3"
  },
  "language_info": {
   "codemirror_mode": {
    "name": "ipython",
    "version": 3
   },
   "file_extension": ".py",
   "mimetype": "text/x-python",
   "name": "python",
   "nbconvert_exporter": "python",
   "pygments_lexer": "ipython3",
   "version": "3.6.12"
  }
 },
 "nbformat": 4,
 "nbformat_minor": 2
}
