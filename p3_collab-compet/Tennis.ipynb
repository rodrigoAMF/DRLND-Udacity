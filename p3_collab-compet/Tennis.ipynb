{
 "cells": [
  {
   "cell_type": "markdown",
   "metadata": {},
   "source": [
    "# Collaboration and Competition\n",
    "\n",
    "### Starting the Environment\n",
    "\n",
    "We begin by importing the necessary packages.  If the code cell below returns an error, please revisit the project instructions to double-check that you have installed [Unity ML-Agents](https://github.com/Unity-Technologies/ml-agents/blob/master/docs/Installation.md) and [NumPy](http://www.numpy.org/)."
   ]
  },
  {
   "cell_type": "code",
   "execution_count": 1,
   "metadata": {},
   "outputs": [
    {
     "name": "stdout",
     "output_type": "stream",
     "text": [
      "Algorithm will train with GPU\n"
     ]
    }
   ],
   "source": [
    "from collections import deque\n",
    "\n",
    "import numpy as np\n",
    "import matplotlib.pyplot as plt\n",
    "import torch\n",
    "\n",
    "from unityagents import UnityEnvironment\n",
    "from ddpg_agent import Agent"
   ]
  },
  {
   "cell_type": "markdown",
   "metadata": {},
   "source": [
    "Next, we will start the environment!  **_Before running the code cell below_**, change the `file_name` parameter to match the location of the Unity environment that you downloaded.\n",
    "\n",
    "- **Mac**: `\"path/to/Tennis.app\"`\n",
    "- **Windows** (x86): `\"path/to/Tennis_Windows_x86/Tennis.exe\"`\n",
    "- **Windows** (x86_64): `\"path/to/Tennis_Windows_x86_64/Tennis.exe\"`\n",
    "- **Linux** (x86): `\"path/to/Tennis_Linux/Tennis.x86\"`\n",
    "- **Linux** (x86_64): `\"path/to/Tennis_Linux/Tennis.x86_64\"`\n",
    "- **Linux** (x86, headless): `\"path/to/Tennis_Linux_NoVis/Tennis.x86\"`\n",
    "- **Linux** (x86_64, headless): `\"path/to/Tennis_Linux_NoVis/Tennis.x86_64\"`\n",
    "\n",
    "For instance, if you are using a Mac, then you downloaded `Tennis.app`.  If this file is in the same folder as the notebook, then the line below should appear as follows:\n",
    "```\n",
    "env = UnityEnvironment(file_name=\"Tennis.app\")\n",
    "```"
   ]
  },
  {
   "cell_type": "code",
   "execution_count": 2,
   "metadata": {},
   "outputs": [
    {
     "name": "stderr",
     "output_type": "stream",
     "text": [
      "INFO:unityagents:\n",
      "'Academy' started successfully!\n",
      "Unity Academy name: Academy\n",
      "        Number of Brains: 1\n",
      "        Number of External Brains : 1\n",
      "        Lesson number : 0\n",
      "        Reset Parameters :\n",
      "\t\t\n",
      "Unity brain name: TennisBrain\n",
      "        Number of Visual Observations (per agent): 0\n",
      "        Vector Observation space type: continuous\n",
      "        Vector Observation space size (per agent): 8\n",
      "        Number of stacked Vector Observation: 3\n",
      "        Vector Action space type: continuous\n",
      "        Vector Action space size (per agent): 2\n",
      "        Vector Action descriptions: , \n"
     ]
    }
   ],
   "source": [
    "env = UnityEnvironment(file_name=\"Tennis/Tennis.exe\")"
   ]
  },
  {
   "cell_type": "code",
   "execution_count": 3,
   "metadata": {},
   "outputs": [],
   "source": [
    "# get the default brain\n",
    "brain_name = env.brain_names[0]\n",
    "brain = env.brains[brain_name]"
   ]
  },
  {
   "cell_type": "code",
   "execution_count": 4,
   "metadata": {},
   "outputs": [
    {
     "name": "stdout",
     "output_type": "stream",
     "text": [
      "Number of agents: 2\n",
      "Size of each action: 2\n",
      "There are 2 agents. Each observes a state with length: 24\n",
      "The state for the first agent looks like: [ 0.          0.          0.          0.          0.          0.\n",
      "  0.          0.          0.          0.          0.          0.\n",
      "  0.          0.          0.          0.         -6.65278625 -1.5\n",
      " -0.          0.          6.83172083  6.         -0.          0.        ]\n",
      "The state for the second agent looks like: [ 0.          0.          0.          0.          0.          0.\n",
      "  0.          0.          0.          0.          0.          0.\n",
      "  0.          0.          0.          0.         -6.4669857  -1.5\n",
      "  0.          0.         -6.83172083  6.          0.          0.        ]\n"
     ]
    }
   ],
   "source": [
    "# reset the environment\n",
    "env_info = env.reset(train_mode=True)[brain_name]\n",
    "\n",
    "# number of agents \n",
    "num_agents = len(env_info.agents)\n",
    "print('Number of agents:', num_agents)\n",
    "\n",
    "# size of each action\n",
    "action_size = brain.vector_action_space_size\n",
    "print('Size of each action:', action_size)\n",
    "\n",
    "# examine the state space \n",
    "states = env_info.vector_observations\n",
    "state_size = states.shape[1]\n",
    "print('There are {} agents. Each observes a state with length: {}'.format(states.shape[0], state_size))\n",
    "print('The state for the first agent looks like:', states[0])\n",
    "print('The state for the second agent looks like:', states[1])"
   ]
  },
  {
   "cell_type": "code",
   "execution_count": 5,
   "metadata": {},
   "outputs": [],
   "source": [
    "agent = Agent(state_size=state_size, action_size=action_size, random_seed=7)"
   ]
  },
  {
   "cell_type": "code",
   "execution_count": 6,
   "metadata": {},
   "outputs": [],
   "source": [
    "def train(n_episodes=5000, max_t=1000, print_every=100):\n",
    "    scores_deque = deque(maxlen=100)\n",
    "    average_scores = []\n",
    "    scores_episode = []\n",
    "    solved = False\n",
    "    best_average_score = -1\n",
    "    episode_best_average_score = -1\n",
    "    last_episode = -1\n",
    "    for i_episode in range(1, n_episodes+1):\n",
    "        env_info = env.reset(train_mode=True)[brain_name]\n",
    "        states = env_info.vector_observations\n",
    "        agent.reset()\n",
    "        scores = np.zeros(num_agents)\n",
    "        for t in range(max_t):\n",
    "            actions = agent.act(states, add_noise=True)\n",
    "            env_info = env.step(actions)[brain_name]\n",
    "            next_states = env_info.vector_observations\n",
    "            rewards = env_info.rewards\n",
    "            dones = env_info.local_done\n",
    "            for state, action, reward, next_state, done in zip(states, actions, rewards, next_states, dones):\n",
    "                agent.step(state, action, reward, next_state, done, t)\n",
    "            states = next_states\n",
    "            scores += rewards\n",
    "            if np.any(done):\n",
    "                break\n",
    "        score = np.max(scores)\n",
    "        scores_episode.append(score)\n",
    "        scores_deque.append(score)\n",
    "        \n",
    "        average_score = np.mean(scores_deque)\n",
    "        average_scores.append(np.mean(scores_deque))\n",
    "        print('\\rEpisode {}\\tScore : {:.3f}\\tAverage Score: {:.3f}'.format(i_episode, score, average_score), end=\"\")\n",
    "        \n",
    "        if i_episode % print_every == 0:\n",
    "            torch.save(agent.actor_local.state_dict(), 'models/checkpoint_actor.pth')\n",
    "            torch.save(agent.critic_local.state_dict(), 'models/checkpoint_critic.pth')\n",
    "            print('\\rEpisode {}\\tScore : {:.3f}\\tAverage Score: {:.3f}'.format(i_episode, score, average_score))\n",
    "        \n",
    "        if i_episode >= 100 and average_score >= 0.5 and not solved:\n",
    "            solved = True\n",
    "            best_average_score = average_score\n",
    "            episode_best_average_score = i_episode\n",
    "            \n",
    "            print(\"\\n\\nEnviroment solved in {} episodes!\".format(i_episode))\n",
    "            \n",
    "            last_episode = i_episode + 500\n",
    "            print(\"Continuing training for more 500 episodes (until episode {}) to see if we can still improve average score!\\n\".format(last_episode))\n",
    "            \n",
    "            torch.save(agent.actor_local.state_dict(), 'models/best_actor.pth')\n",
    "            torch.save(agent.critic_local.state_dict(), 'models/best_critic.pth')\n",
    "            \n",
    "        if solved and average_score > best_average_score:\n",
    "            episode_best_average_score = i_episode\n",
    "            best_average_score = average_score\n",
    "            \n",
    "            torch.save(agent.actor_local.state_dict(), 'models/best_actor.pth')\n",
    "            torch.save(agent.critic_local.state_dict(), 'models/best_critic.pth')\n",
    "        \n",
    "        if solved and i_episode == last_episode:\n",
    "            break\n",
    "            \n",
    "    print(\"Training done!\")\n",
    "    print(\"Best average score: {:.3f}\".format(best_average_score))\n",
    "    print(\"Episode with best average score: {}\".format(episode_best_average_score))\n",
    "    \n",
    "    return average_scores, scores_episode"
   ]
  },
  {
   "cell_type": "code",
   "execution_count": 7,
   "metadata": {},
   "outputs": [
    {
     "name": "stdout",
     "output_type": "stream",
     "text": [
      "Episode 100\tScore : 0.000\tAverage Score: 0.006\n",
      "Episode 200\tScore : 0.000\tAverage Score: 0.007\n",
      "Episode 300\tScore : 0.000\tAverage Score: 0.041\n",
      "Episode 400\tScore : 0.200\tAverage Score: 0.066\n",
      "Episode 500\tScore : 0.000\tAverage Score: 0.068\n",
      "Episode 600\tScore : 0.000\tAverage Score: 0.056\n",
      "Episode 700\tScore : 0.200\tAverage Score: 0.043\n",
      "Episode 800\tScore : 0.100\tAverage Score: 0.049\n",
      "Episode 900\tScore : 0.000\tAverage Score: 0.053\n",
      "Episode 1000\tScore : 0.090\tAverage Score: 0.051\n",
      "Episode 1100\tScore : 0.200\tAverage Score: 0.043\n",
      "Episode 1200\tScore : 0.100\tAverage Score: 0.044\n",
      "Episode 1300\tScore : 0.090\tAverage Score: 0.067\n",
      "Episode 1400\tScore : 0.100\tAverage Score: 0.062\n",
      "Episode 1500\tScore : 0.000\tAverage Score: 0.060\n",
      "Episode 1600\tScore : 0.100\tAverage Score: 0.092\n",
      "Episode 1700\tScore : 0.100\tAverage Score: 0.092\n",
      "Episode 1800\tScore : 0.000\tAverage Score: 0.103\n",
      "Episode 1900\tScore : 0.100\tAverage Score: 0.109\n",
      "Episode 2000\tScore : 0.090\tAverage Score: 0.483\n",
      "Episode 2002\tScore : 2.700\tAverage Score: 0.509\n",
      "\n",
      "Enviroment solved in 2002 episodes!\n",
      "Continuing training for more 500 episodes (until episode 2502) to see if we can still improve average score!\n",
      "\n",
      "Episode 2100\tScore : 0.090\tAverage Score: 0.180\n",
      "Episode 2200\tScore : 0.100\tAverage Score: 0.129\n",
      "Episode 2300\tScore : 0.100\tAverage Score: 0.177\n",
      "Episode 2400\tScore : 0.100\tAverage Score: 0.189\n",
      "Episode 2500\tScore : 0.100\tAverage Score: 0.151\n",
      "Episode 2502\tScore : 0.190\tAverage Score: 0.150Training done!\n",
      "Best average score: 0.536\n",
      "Episode with best average score: 2005\n"
     ]
    }
   ],
   "source": [
    "average_scores, scores_episode = train()"
   ]
  },
  {
   "cell_type": "code",
   "execution_count": 8,
   "metadata": {},
   "outputs": [
    {
     "data": {
      "image/png": "[encoded data removed]",
      "text/plain": [
       "<Figure size 432x288 with 1 Axes>"
      ]
     },
     "metadata": {
      "needs_background": "light"
     },
     "output_type": "display_data"
    },
    {
     "data": {
      "image/png": "[encoded data removed]",
      "text/plain": [
       "<Figure size 432x288 with 1 Axes>"
      ]
     },
     "metadata": {
      "needs_background": "light"
     },
     "output_type": "display_data"
    }
   ],
   "source": [
    "fig = plt.figure()\n",
    "ax = fig.add_subplot(111)\n",
    "plt.plot(np.arange(1, len(average_scores)+1), average_scores)\n",
    "plt.ylabel('Average Score')\n",
    "plt.xlabel('Episode #')\n",
    "plt.show()\n",
    "\n",
    "fig = plt.figure()\n",
    "ax = fig.add_subplot(111)\n",
    "plt.plot(np.arange(1, len(scores_episode)+1), scores_episode)\n",
    "plt.ylabel('Score')\n",
    "plt.xlabel('Episode #')\n",
    "plt.show()"
   ]
  },
  {
   "cell_type": "code",
   "execution_count": 9,
   "metadata": {},
   "outputs": [],
   "source": [
    "env.close()"
   ]
  },
  {
   "cell_type": "code",
   "execution_count": null,
   "metadata": {},
   "outputs": [],
   "source": []
  }
 ],
 "metadata": {
  "kernelspec": {
   "display_name": "Python 3",
   "language": "python",
   "name": "python3"
  },
  "language_info": {
   "codemirror_mode": {
    "name": "ipython",
    "version": 3
   },
   "file_extension": ".py",
   "mimetype": "text/x-python",
   "name": "python",
   "nbconvert_exporter": "python",
   "pygments_lexer": "ipython3",
   "version": "3.6.12"
  }
 },
 "nbformat": 4,
 "nbformat_minor": 2
}
